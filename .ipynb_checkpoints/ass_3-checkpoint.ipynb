{
 "cells": [
  {
   "cell_type": "code",
   "execution_count": 1,
   "metadata": {
    "scrolled": true
   },
   "outputs": [],
   "source": [
    "from tqdm import tqdm\n",
    "from collections import defaultdict\n",
    "from functools import lru_cache\n",
    "from IPython.display import clear_output"
   ]
  },
  {
   "cell_type": "markdown",
   "metadata": {},
   "source": [
    "## Problem 1\n",
    "\n",
    "This is a function that returns the vocab and the text of an language corpus given it's path."
   ]
  },
  {
   "cell_type": "code",
   "execution_count": 2,
   "metadata": {},
   "outputs": [],
   "source": [
    "@lru_cache(4)\n",
    "def get_text_and_vocab(path):\n",
    "    text = \"\"\n",
    "    words = []\n",
    "    with open(path, encoding='utf8') as corpus:\n",
    "        text = corpus.read().lower()\n",
    "        words = list(set(text.split()))\n",
    "    return (text, words)"
   ]
  },
  {
   "cell_type": "markdown",
   "metadata": {},
   "source": [
    "This is a function that appends `NULL` to a sentence and returns it."
   ]
  },
  {
   "cell_type": "code",
   "execution_count": 3,
   "metadata": {},
   "outputs": [],
   "source": [
    "def append(x):\n",
    "    x.append(\"NULL\")\n",
    "    return x"
   ]
  },
  {
   "cell_type": "markdown",
   "metadata": {},
   "source": [
    "This is a function that preprocesses and returns pairs of sentences. Preprocessing involves converting to lowercase, splitting into words, and appending `NULL`"
   ]
  },
  {
   "cell_type": "code",
   "execution_count": 4,
   "metadata": {},
   "outputs": [],
   "source": [
    "@lru_cache(16)\n",
    "def sent_pairs(lang_a=\"de-en.de\", lang_b=\"de-en.en\"):\n",
    "    pairs = []\n",
    "    with open(lang_a, encoding=\"utf8\") as a_file:\n",
    "        with open(lang_b, encoding=\"utf8\") as b_file:\n",
    "            pairs = [(append(a.strip().lower().split()), append(b.strip().lower().split())) for (a, b) in zip(a_file.readlines(), b_file.readlines())]\n",
    "    \n",
    "    return pairs"
   ]
  },
  {
   "cell_type": "markdown",
   "metadata": {},
   "source": [
    "This is a function to implement the solution to problem 1. It returns the translation probablities stored in a dictionary. \n",
    "\n",
    "To retreive the translation from `A` to `B`, just access they key `(A, B)` in the dictionary returned by this function.\n",
    "\n",
    "For example: \n",
    "    ```\n",
    "    probs = problem_1()\n",
    "    print(probs[(A, B)])\n",
    "    ```"
   ]
  },
  {
   "cell_type": "code",
   "execution_count": 5,
   "metadata": {},
   "outputs": [],
   "source": [
    "@lru_cache(16)\n",
    "def problem_1(lang_a=\"de-en.de\", lang_b=\"de-en.en\", eps=(5*10e-6)):\n",
    "    probs = defaultdict(lambda: 1.0 / len(b_words))    \n",
    "    \n",
    "    a_text, a_words = get_text_and_vocab(lang_a)\n",
    "    b_text, b_words = get_text_and_vocab(lang_b)\n",
    "    \n",
    "    iters = []\n",
    "    for x in range(1000):\n",
    "        counts = defaultdict(lambda: 0)\n",
    "        total_b = defaultdict(lambda: 0)\n",
    "        \n",
    "        for (a_sent, b_sent) in sent_pairs(lang_a, lang_b):\n",
    "            for a_word in a_sent:\n",
    "                _sum = 0\n",
    "                for b_word in b_sent:\n",
    "                    _sum += probs[(a_word, b_word)]\n",
    "\n",
    "                for b_word in b_sent:\n",
    "                    counts[(a_word, b_word)] += probs[(a_word, b_word)] / _sum\n",
    "                    total_b[b_word] += probs[(a_word, b_word)] / _sum\n",
    "        \n",
    "        deltas = []\n",
    "        for a_word in tqdm(a_words):\n",
    "            for b_word in b_words:\n",
    "                new = counts[(a_word, b_word)] / total_b[b_word]\n",
    "                deltas.append(abs(probs[(a_word, b_word)] - new))\n",
    "                probs[(a_word, b_word)] = new\n",
    "        \n",
    "        if (sum(deltas) / len(deltas)) < eps:\n",
    "            print(f\"Iteration {x}:\\tFinal avg. delta is {sum(deltas) / len(deltas)}\")\n",
    "            break\n",
    "        else:\n",
    "            clear_output()\n",
    "            res = f\"Iteration {x}:\\tCurrent avg. delta is {sum(deltas) / len(deltas)}\"\n",
    "            iters.append(res)\n",
    "            print(\"\\n\".join(iters))\n",
    "            \n",
    "    return probs            "
   ]
  },
  {
   "cell_type": "markdown",
   "metadata": {},
   "source": [
    "If you print the return value of function `problem_1()` you'll see that it is a giant dict of translation probabilities."
   ]
  },
  {
   "cell_type": "code",
   "execution_count": 6,
   "metadata": {},
   "outputs": [
    {
     "name": "stdout",
     "output_type": "stream",
     "text": [
      "Iteration 0:\tCurrent avg. delta is 0.0004908649509178974\n",
      "Iteration 1:\tCurrent avg. delta is 8.719428439089653e-05\n",
      "Iteration 2:\tCurrent avg. delta is 6.009279241161375e-05\n"
     ]
    },
    {
     "name": "stderr",
     "output_type": "stream",
     "text": [
      "100%|████████████████████████████████████████████████████████████| 4580/4580 [00:26<00:00, 171.55it/s]\n"
     ]
    },
    {
     "name": "stdout",
     "output_type": "stream",
     "text": [
      "Iteration 3:\tFinal avg. delta is 4.617691852228025e-05\n"
     ]
    }
   ],
   "source": [
    "probs = problem_1()"
   ]
  },
  {
   "cell_type": "markdown",
   "metadata": {},
   "source": [
    "Following prints the translation probability of `parlament` and `parliament`."
   ]
  },
  {
   "cell_type": "code",
   "execution_count": 7,
   "metadata": {
    "scrolled": true
   },
   "outputs": [
    {
     "data": {
      "text/plain": [
       "0.5972480821940453"
      ]
     },
     "execution_count": 7,
     "metadata": {},
     "output_type": "execute_result"
    }
   ],
   "source": [
    "probs[('parlament', 'parliament')]"
   ]
  },
  {
   "cell_type": "markdown",
   "metadata": {},
   "source": [
    "## Problem 2\n",
    "\n",
    "A convinience function that joins back the list of words returned by `sent_pairs()` back into a sentence."
   ]
  },
  {
   "cell_type": "code",
   "execution_count": 8,
   "metadata": {},
   "outputs": [],
   "source": [
    "def get_sent(x):\n",
    "    return (\" \".join(x[0][:-1]), \" \".join(x[1][:-1]))"
   ]
  },
  {
   "cell_type": "markdown",
   "metadata": {},
   "source": [
    "A function that implements the solution for Problem 2, and returns a dictionary with sentence pairs as keys and their alignment as value."
   ]
  },
  {
   "cell_type": "code",
   "execution_count": 9,
   "metadata": {},
   "outputs": [],
   "source": [
    "def problem_2(lang_a=\"de-en.de\", lang_b=\"de-en.en\", probs=None, threshold=0.2):\n",
    "    if probs is None:\n",
    "        probs = problem_1(lang_a, lang_b)\n",
    "    \n",
    "    alignments = defaultdict(lambda: defaultdict(list))\n",
    "    \n",
    "    for (a_sent, b_sent) in tqdm(sent_pairs(lang_a, lang_b)):\n",
    "        alignment = defaultdict(set)\n",
    "        for a_word in a_sent:\n",
    "            for b_word in b_sent:\n",
    "                if probs[(a_word, b_word)] > threshold:\n",
    "                    alignment[a_word].add(b_word)\n",
    "        \n",
    "        alignments[get_sent((a_sent, b_sent))] = alignment\n",
    "        \n",
    "    return alignments"
   ]
  },
  {
   "cell_type": "code",
   "execution_count": 10,
   "metadata": {},
   "outputs": [
    {
     "name": "stderr",
     "output_type": "stream",
     "text": [
      "100%|███████████████████████████████████████████████████████████| 1000/1000 [00:00<00:00, 2846.43it/s]\n"
     ]
    }
   ],
   "source": [
    "alignments = problem_2(probs=probs)"
   ]
  },
  {
   "cell_type": "markdown",
   "metadata": {},
   "source": [
    "Consider the first sentence pair in the German-English parallel corpus -"
   ]
  },
  {
   "cell_type": "code",
   "execution_count": 11,
   "metadata": {},
   "outputs": [
    {
     "data": {
      "text/plain": [
       "('wiederaufnahme der sitzungsperiode', 'resumption of the session')"
      ]
     },
     "execution_count": 11,
     "metadata": {},
     "output_type": "execute_result"
    }
   ],
   "source": [
    "first_sentence = get_sent(sent_pairs()[0])\n",
    "first_sentence"
   ]
  },
  {
   "cell_type": "markdown",
   "metadata": {},
   "source": [
    "You can retrieve it's alignment by accessing that value stored by key first sentence as follows -"
   ]
  },
  {
   "cell_type": "code",
   "execution_count": 12,
   "metadata": {},
   "outputs": [
    {
     "data": {
      "text/plain": [
       "defaultdict(set,\n",
       "            {'wiederaufnahme': {'resumption'},\n",
       "             'der': {'of', 'resumption'},\n",
       "             'sitzungsperiode': {'resumption', 'session'}})"
      ]
     },
     "execution_count": 12,
     "metadata": {},
     "output_type": "execute_result"
    }
   ],
   "source": [
    "alignments[first_sentence] # alignments stores the return value of `problem_2(probs=probs)`"
   ]
  },
  {
   "cell_type": "markdown",
   "metadata": {},
   "source": [
    "The aligment is stored as another dictionary, the keys are words the orignal sentence, and the values are the list of words that the algorithm think it aligns to.\n",
    "\n",
    "I'll write a function to pretty-print this alignment in case my explaination is not well-recieved."
   ]
  },
  {
   "cell_type": "code",
   "execution_count": 13,
   "metadata": {},
   "outputs": [],
   "source": [
    "def pretty_print(alignment):\n",
    "    print(\"Sentence: \", \" \".join(alignment.keys()), \"\\n\")\n",
    "    for a_word in alignment.keys():\n",
    "        values = alignment[a_word]\n",
    "        print(f\"{a_word} -> {' '.join(values)}\")"
   ]
  },
  {
   "cell_type": "code",
   "execution_count": 14,
   "metadata": {},
   "outputs": [
    {
     "name": "stdout",
     "output_type": "stream",
     "text": [
      "Sentence:  wiederaufnahme der sitzungsperiode \n",
      "\n",
      "wiederaufnahme -> resumption\n",
      "der -> of resumption\n",
      "sitzungsperiode -> session resumption\n"
     ]
    }
   ],
   "source": [
    "pretty_print(alignments[first_sentence])"
   ]
  },
  {
   "cell_type": "markdown",
   "metadata": {},
   "source": [
    "Another example -"
   ]
  },
  {
   "cell_type": "code",
   "execution_count": 15,
   "metadata": {},
   "outputs": [
    {
     "name": "stdout",
     "output_type": "stream",
     "text": [
      "Sentence:  abstimmung morgen um uhr \n",
      "\n",
      "abstimmung -> vote\n",
      "morgen -> tomorrow\n",
      "um -> p.m.\n",
      "uhr -> p.m.\n"
     ]
    }
   ],
   "source": [
    "pretty_print(alignments[get_sent(sent_pairs()[243])])"
   ]
  },
  {
   "cell_type": "markdown",
   "metadata": {},
   "source": [
    "# Problem 3"
   ]
  },
  {
   "cell_type": "code",
   "execution_count": 16,
   "metadata": {},
   "outputs": [
    {
     "name": "stdout",
     "output_type": "stream",
     "text": [
      "Iteration 0:\tCurrent avg. delta is 0.0005132330551919902\n",
      "Iteration 1:\tCurrent avg. delta is 0.00010263965665483475\n",
      "Iteration 2:\tCurrent avg. delta is 7.423916522707603e-05\n",
      "Iteration 3:\tCurrent avg. delta is 5.779563241439832e-05\n"
     ]
    },
    {
     "name": "stderr",
     "output_type": "stream",
     "text": [
      "100%|████████████████████████████████████████████████████████████| 4130/4130 [00:22<00:00, 187.63it/s]\n"
     ]
    },
    {
     "name": "stdout",
     "output_type": "stream",
     "text": [
      "Iteration 4:\tFinal avg. delta is 4.249691062978729e-05\n"
     ]
    }
   ],
   "source": [
    "_probs = problem_1(\"fr-en.fr\", \"fr-en.en\")"
   ]
  },
  {
   "cell_type": "code",
   "execution_count": 17,
   "metadata": {},
   "outputs": [
    {
     "name": "stderr",
     "output_type": "stream",
     "text": [
      "100%|████████████████████████████████████████████████████████████| 1000/1000 [00:01<00:00, 659.44it/s]\n"
     ]
    }
   ],
   "source": [
    "_alignments = problem_2(\"fr-en.fr\", \"fr-en.en\", probs=_probs)"
   ]
  },
  {
   "cell_type": "markdown",
   "metadata": {},
   "source": [
    "Let's try it out for the first sentence -"
   ]
  },
  {
   "cell_type": "code",
   "execution_count": 18,
   "metadata": {},
   "outputs": [
    {
     "data": {
      "text/plain": [
       "defaultdict(set,\n",
       "            {'reprise': {'resumption', 'session'},\n",
       "             'la': {'resumption'},\n",
       "             'session': {'resumption', 'session'}})"
      ]
     },
     "execution_count": 18,
     "metadata": {},
     "output_type": "execute_result"
    }
   ],
   "source": [
    "first_sentence = get_sent(sent_pairs(\"fr-en.fr\", \"fr-en.en\")[0])\n",
    "_alignments[first_sentence]"
   ]
  },
  {
   "cell_type": "markdown",
   "metadata": {},
   "source": [
    "Pretty printing -"
   ]
  },
  {
   "cell_type": "code",
   "execution_count": 19,
   "metadata": {},
   "outputs": [
    {
     "name": "stdout",
     "output_type": "stream",
     "text": [
      "Sentence:  reprise la session \n",
      "\n",
      "reprise -> session resumption\n",
      "la -> resumption\n",
      "session -> session resumption\n"
     ]
    }
   ],
   "source": [
    "pretty_print(_alignments[first_sentence])"
   ]
  },
  {
   "cell_type": "markdown",
   "metadata": {},
   "source": [
    "Another example -"
   ]
  },
  {
   "cell_type": "code",
   "execution_count": 21,
   "metadata": {},
   "outputs": [
    {
     "name": "stdout",
     "output_type": "stream",
     "text": [
      "Sentence:  je reprise session parlement vendredi 17 décembre dernier et vous vux que . \n",
      "\n",
      "je -> like i\n",
      "reprise -> session\n",
      "session -> session\n",
      "parlement -> parliament\n",
      "vendredi -> friday\n",
      "17 -> 17\n",
      "décembre -> december\n",
      "dernier -> friday\n",
      "et -> and\n",
      "vous -> you\n",
      "vux -> happy\n",
      "que -> that\n",
      ". -> .\n"
     ]
    }
   ],
   "source": [
    "pretty_print(_alignments[get_sent(sent_pairs(\"fr-en.fr\", \"fr-en.en\")[1])])"
   ]
  },
  {
   "cell_type": "code",
   "execution_count": null,
   "metadata": {},
   "outputs": [],
   "source": []
  }
 ],
 "metadata": {
  "kernelspec": {
   "display_name": "Python 3",
   "language": "python",
   "name": "python3"
  },
  "language_info": {
   "codemirror_mode": {
    "name": "ipython",
    "version": 3
   },
   "file_extension": ".py",
   "mimetype": "text/x-python",
   "name": "python",
   "nbconvert_exporter": "python",
   "pygments_lexer": "ipython3",
   "version": "3.7.4"
  }
 },
 "nbformat": 4,
 "nbformat_minor": 2
}
